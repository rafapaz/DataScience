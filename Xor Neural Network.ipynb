{
 "cells": [
  {
   "cell_type": "code",
   "execution_count": 52,
   "metadata": {},
   "outputs": [
    {
     "data": {
      "text/plain": [
       "array([[1.5930200e-07],\n",
       "       [9.9999988e-01],\n",
       "       [9.9999988e-01],\n",
       "       [2.6459978e-07]], dtype=float32)"
      ]
     },
     "execution_count": 52,
     "metadata": {},
     "output_type": "execute_result"
    }
   ],
   "source": [
    "from keras.models import Sequential\n",
    "from keras.layers import Dense\n",
    "import keras\n",
    "import numpy as np\n",
    "\n",
    "model = Sequential()\n",
    "model.add(Dense(units=2, activation='sigmoid', input_dim=2))\n",
    "model.add(Dense(units=1, activation='sigmoid', input_dim=2))\n",
    "\n",
    "rms = keras.optimizers.RMSprop(lr=0.1, rho=0.9, epsilon=None, decay=0.0)\n",
    "\n",
    "model.compile(optimizer=rms, \n",
    "              loss='binary_crossentropy', #binary_crossentropy / mean_squared_error\n",
    "              metrics=['accuracy'])\n",
    "\n",
    "x = np.array([(0,0),(0,1),(1,0),(1,1)])\n",
    "y = np.array([0,1,1,0])\n",
    "\n",
    "#model.set_weights([np.array([[-2],[-2]]), np.array([3])])\n",
    "\n",
    "model.fit(x, y, epochs=500, batch_size=4, verbose=0)\n",
    "\n",
    "#model.get_weights()\n",
    "\n",
    "classes = model.predict(x, batch_size=4)\n",
    "classes"
   ]
  }
 ],
 "metadata": {
  "kernelspec": {
   "display_name": "Python 3",
   "language": "python",
   "name": "python3"
  },
  "language_info": {
   "codemirror_mode": {
    "name": "ipython",
    "version": 3
   },
   "file_extension": ".py",
   "mimetype": "text/x-python",
   "name": "python",
   "nbconvert_exporter": "python",
   "pygments_lexer": "ipython3",
   "version": "3.6.4"
  }
 },
 "nbformat": 4,
 "nbformat_minor": 2
}
