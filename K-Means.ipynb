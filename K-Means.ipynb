{
 "cells": [
  {
   "cell_type": "code",
   "execution_count": 3,
   "metadata": {},
   "outputs": [],
   "source": [
    "import numpy as np\n",
    "from scipy import stats\n",
    "import matplotlib.pyplot as plt\n",
    "from numpy import linalg as LA\n",
    "from sklearn.cluster import KMeans"
   ]
  },
  {
   "cell_type": "code",
   "execution_count": 2,
   "metadata": {},
   "outputs": [
    {
     "data": {
      "image/png": "[encoded data removed]",
      "text/plain": [
       "<matplotlib.figure.Figure at 0x1e4ed49d7f0>"
      ]
     },
     "metadata": {},
     "output_type": "display_data"
    }
   ],
   "source": [
    "size = 100\n",
    "x = np.zeros(size)\n",
    "y = np.zeros(size)\n",
    "for i in range(size):\n",
    "    x[i] = np.random.randint(i*1, (i+30)*1)\n",
    "    y[i] = np.random.randint(i*1, (i+30)*1)\n",
    "#list(zip(x,y))\n",
    "\n",
    "plt.scatter(x,y)\n",
    "plt.show()"
   ]
  },
  {
   "cell_type": "code",
   "execution_count": 12,
   "metadata": {},
   "outputs": [
    {
     "data": {
      "text/plain": [
       "array([[  4.,  14.],\n",
       "       [ 27.,   3.],\n",
       "       [ 22.,   6.],\n",
       "       [ 19.,  30.],\n",
       "       [ 31.,  15.],\n",
       "       [ 10.,  18.],\n",
       "       [ 17.,  12.],\n",
       "       [ 31.,  28.],\n",
       "       [ 36.,  19.],\n",
       "       [ 32.,  10.],\n",
       "       [ 29.,  31.],\n",
       "       [ 35.,  30.],\n",
       "       [ 12.,  27.],\n",
       "       [ 32.,  33.],\n",
       "       [ 25.,  16.],\n",
       "       [ 17.,  32.],\n",
       "       [ 30.,  36.],\n",
       "       [ 26.,  24.],\n",
       "       [ 23.,  41.],\n",
       "       [ 35.,  39.],\n",
       "       [ 22.,  32.],\n",
       "       [ 41.,  31.],\n",
       "       [ 32.,  24.],\n",
       "       [ 43.,  30.],\n",
       "       [ 37.,  33.],\n",
       "       [ 31.,  49.],\n",
       "       [ 50.,  31.],\n",
       "       [ 36.,  35.],\n",
       "       [ 42.,  46.],\n",
       "       [ 55.,  55.],\n",
       "       [ 34.,  32.],\n",
       "       [ 54.,  59.],\n",
       "       [ 53.,  35.],\n",
       "       [ 38.,  53.],\n",
       "       [ 59.,  49.],\n",
       "       [ 60.,  60.],\n",
       "       [ 38.,  47.],\n",
       "       [ 39.,  44.],\n",
       "       [ 52.,  48.],\n",
       "       [ 39.,  53.],\n",
       "       [ 65.,  45.],\n",
       "       [ 66.,  48.],\n",
       "       [ 43.,  48.],\n",
       "       [ 47.,  67.],\n",
       "       [ 62.,  58.],\n",
       "       [ 59.,  71.],\n",
       "       [ 54.,  71.],\n",
       "       [ 71.,  51.],\n",
       "       [ 52.,  57.],\n",
       "       [ 71.,  77.],\n",
       "       [ 59.,  52.],\n",
       "       [ 58.,  69.],\n",
       "       [ 58.,  73.],\n",
       "       [ 75.,  56.],\n",
       "       [ 63.,  68.],\n",
       "       [ 56.,  81.],\n",
       "       [ 85.,  59.],\n",
       "       [ 57.,  82.],\n",
       "       [ 73.,  82.],\n",
       "       [ 87.,  70.],\n",
       "       [ 88.,  67.],\n",
       "       [ 75.,  83.],\n",
       "       [ 63.,  63.],\n",
       "       [ 85.,  92.],\n",
       "       [ 75.,  87.],\n",
       "       [ 86.,  78.],\n",
       "       [ 84.,  74.],\n",
       "       [ 72.,  67.],\n",
       "       [ 97.,  81.],\n",
       "       [ 69.,  94.],\n",
       "       [ 83.,  97.],\n",
       "       [ 72.,  79.],\n",
       "       [ 89.,  99.],\n",
       "       [ 83.,  96.],\n",
       "       [ 95.,  75.],\n",
       "       [ 81.,  92.],\n",
       "       [102.,  77.],\n",
       "       [ 85.,  86.],\n",
       "       [ 92.,  98.],\n",
       "       [ 91.,  88.],\n",
       "       [108.,  83.],\n",
       "       [ 81., 103.],\n",
       "       [ 91., 107.],\n",
       "       [ 90.,  96.],\n",
       "       [106.,  98.],\n",
       "       [114., 102.],\n",
       "       [ 88., 101.],\n",
       "       [107.,  92.],\n",
       "       [110.,  93.],\n",
       "       [105.,  94.],\n",
       "       [ 90., 101.],\n",
       "       [107., 111.],\n",
       "       [ 98., 105.],\n",
       "       [104., 107.],\n",
       "       [ 97., 114.],\n",
       "       [115., 112.],\n",
       "       [101., 119.],\n",
       "       [100., 120.],\n",
       "       [114.,  98.],\n",
       "       [103., 102.]])"
      ]
     },
     "execution_count": 12,
     "metadata": {},
     "output_type": "execute_result"
    }
   ],
   "source": [
    "data = np.array(list(zip(x,y)))\n",
    "data"
   ]
  },
  {
   "cell_type": "code",
   "execution_count": 13,
   "metadata": {},
   "outputs": [
    {
     "data": {
      "text/plain": [
       "array([2, 2, 2, 2, 2, 2, 2, 2, 2, 2, 2, 2, 2, 2, 2, 2, 2, 2, 2, 2, 2, 2,\n",
       "       2, 2, 2, 2, 2, 2, 2, 0, 2, 0, 2, 2, 0, 0, 2, 2, 0, 2, 0, 0, 2, 0,\n",
       "       0, 0, 0, 0, 0, 0, 0, 0, 0, 0, 0, 0, 0, 0, 0, 0, 0, 0, 0, 1, 1, 1,\n",
       "       0, 0, 1, 1, 1, 0, 1, 1, 1, 1, 1, 1, 1, 1, 1, 1, 1, 1, 1, 1, 1, 1,\n",
       "       1, 1, 1, 1, 1, 1, 1, 1, 1, 1, 1, 1])"
      ]
     },
     "execution_count": 13,
     "metadata": {},
     "output_type": "execute_result"
    }
   ],
   "source": [
    "# Runs in parallel 4 CPUs\n",
    "kmeans = KMeans(n_clusters=3, n_init=20, n_jobs=4).fit(data)\n",
    "kmeans.labels_"
   ]
  },
  {
   "cell_type": "code",
   "execution_count": 21,
   "metadata": {},
   "outputs": [
    {
     "data": {
      "image/png": "[encoded data removed]",
      "text/plain": [
       "<matplotlib.figure.Figure at 0x1e4effd3b38>"
      ]
     },
     "metadata": {},
     "output_type": "display_data"
    }
   ],
   "source": [
    "for i in range(size):    \n",
    "    if kmeans.labels_[i] == 0:\n",
    "        plt.scatter(data[i][0], data[i][1], marker='o', c='b')\n",
    "    elif kmeans.labels_[i] == 1:\n",
    "        plt.scatter(data[i][0], data[i][1], marker='+', c='y')\n",
    "    elif kmeans.labels_[i] == 2:\n",
    "        plt.scatter(data[i][0], data[i][1], marker='*', c='r')\n",
    "            \n",
    "plt.show()"
   ]
  }
 ],
 "metadata": {
  "kernelspec": {
   "display_name": "Python 3",
   "language": "python",
   "name": "python3"
  },
  "language_info": {
   "codemirror_mode": {
    "name": "ipython",
    "version": 3
   },
   "file_extension": ".py",
   "mimetype": "text/x-python",
   "name": "python",
   "nbconvert_exporter": "python",
   "pygments_lexer": "ipython3",
   "version": "3.6.4"
  }
 },
 "nbformat": 4,
 "nbformat_minor": 2
}
