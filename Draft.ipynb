{
 "cells": [
  {
   "cell_type": "code",
   "execution_count": 24,
   "metadata": {},
   "outputs": [],
   "source": [
    "import numpy as np"
   ]
  },
  {
   "cell_type": "code",
   "execution_count": 46,
   "metadata": {},
   "outputs": [
    {
     "name": "stdout",
     "output_type": "stream",
     "text": [
      "[5 6 4 8 6 8 6 4 4 2] [0 5 5 8 4 4 7 0 3 3] [1 2 4 4 9 3 2 9 7 0]\n"
     ]
    }
   ],
   "source": [
    "m = np.random.randint(10, size=10)\n",
    "n = np.random.randint(10, size=10)\n",
    "k = np.random.randint(10, size=10)\n",
    "print(m, n, k)"
   ]
  },
  {
   "cell_type": "code",
   "execution_count": 56,
   "metadata": {},
   "outputs": [
    {
     "name": "stdout",
     "output_type": "stream",
     "text": [
      "5.3 5.5\n",
      "1.7916472867168918 3.2100000000000004\n",
      "3.9 4.0\n",
      "2.4677925358506134 6.090000000000001\n",
      "[[5 6 4 8 6 8 6 4 4 2]\n",
      " [0 5 5 8 4 4 7 0 3 3]\n",
      " [1 2 4 4 9 3 2 9 7 0]]\n"
     ]
    },
    {
     "data": {
      "text/plain": [
       "array([[ 3.56666667,  2.58888889,  0.18888889],\n",
       "       [ 2.58888889,  6.76666667, -1.65555556],\n",
       "       [ 0.18888889, -1.65555556, 10.32222222]])"
      ]
     },
     "execution_count": 56,
     "metadata": {},
     "output_type": "execute_result"
    }
   ],
   "source": [
    "\n",
    "print(np.mean(m), np.median(m))\n",
    "print(np.std(m), np.std(m)**2)\n",
    "\n",
    "print(np.mean(n), np.median(n))\n",
    "print(np.std(n), np.std(n)**2)\n",
    "\n",
    "a = np.concatenate((m,n,k), axis=0)\n",
    "a = a.reshape((3,10))\n",
    "print(a)\n",
    "\n",
    "np.cov(a)"
   ]
  },
  {
   "cell_type": "code",
   "execution_count": 59,
   "metadata": {},
   "outputs": [],
   "source": [
    "from numpy import linalg as LA"
   ]
  },
  {
   "cell_type": "code",
   "execution_count": 62,
   "metadata": {},
   "outputs": [
    {
     "name": "stdout",
     "output_type": "stream",
     "text": [
      "[ 1.00000000e+00  1.00000000e+00 -2.22044605e-16]\n",
      "[[ 0.00000000e+00  5.55111512e-17 -9.53462589e-02]\n",
      " [ 1.00000000e+00 -1.00000000e+00 -9.53462589e-01]\n",
      " [ 0.00000000e+00 -1.11022302e-16  2.86038777e-01]]\n"
     ]
    }
   ],
   "source": [
    "m = np.array([[3,0,1],[-4,1,2],[-6,0,-2]])\n",
    "w, v = LA.eig(m)\n",
    "print(w)\n",
    "print(v)"
   ]
  }
 ],
 "metadata": {
  "kernelspec": {
   "display_name": "Python 3",
   "language": "python",
   "name": "python3"
  },
  "language_info": {
   "codemirror_mode": {
    "name": "ipython",
    "version": 3
   },
   "file_extension": ".py",
   "mimetype": "text/x-python",
   "name": "python",
   "nbconvert_exporter": "python",
   "pygments_lexer": "ipython3",
   "version": "3.6.4"
  }
 },
 "nbformat": 4,
 "nbformat_minor": 2
}
