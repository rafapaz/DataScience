{
 "cells": [
  {
   "cell_type": "code",
   "execution_count": 3,
   "metadata": {
    "scrolled": true
   },
   "outputs": [
    {
     "data": {
      "text/plain": [
       "array([[3.4764814e-03, 2.5666107e-03, 1.8467670e-03, 3.1867094e-02,\n",
       "        4.2302540e-04, 9.1410446e-01, 3.0338388e-02, 8.0166862e-04,\n",
       "        9.0161581e-03, 5.5593047e-03]], dtype=float32)"
      ]
     },
     "execution_count": 3,
     "metadata": {},
     "output_type": "execute_result"
    }
   ],
   "source": [
    "import mnist_loader \n",
    "from keras.models import Sequential\n",
    "from keras.layers import Dense\n",
    "import keras\n",
    "import numpy as np\n",
    "\n",
    "model = Sequential()\n",
    "model.add(Dense(units=20, activation='softmax', input_dim=784))\n",
    "model.add(Dense(units=10, activation='softmax', input_dim=15))\n",
    "\n",
    "sgd = keras.optimizers.SGD(lr=3, momentum=0.0, decay=0.0, nesterov=False)\n",
    "\n",
    "model.compile(optimizer=sgd, \n",
    "              loss='binary_crossentropy', #binary_crossentropy / mean_squared_error\n",
    "              metrics=['accuracy'])\n",
    "\n",
    "training_data, validation_data, test_data = mnist_loader.load_data()\n",
    "\n",
    "x = np.array(training_data[0])\n",
    "y = np.array([mnist_loader.vectorized_result(y) for y in training_data[1]])\n",
    "\n",
    "\n",
    "#model.set_weights([np.array([[-2],[-2]]), np.array([3])])\n",
    "\n",
    "model.fit(x, y, epochs=5, batch_size=10, verbose=0)\n",
    "#print('Sucesso')\n",
    "#model.get_weights()\n",
    "\n",
    "classes = model.predict(np.array([x[0]]), batch_size=2)\n",
    "classes"
   ]
  }
 ],
 "metadata": {
  "kernelspec": {
   "display_name": "Python 3",
   "language": "python",
   "name": "python3"
  },
  "language_info": {
   "codemirror_mode": {
    "name": "ipython",
    "version": 3
   },
   "file_extension": ".py",
   "mimetype": "text/x-python",
   "name": "python",
   "nbconvert_exporter": "python",
   "pygments_lexer": "ipython3",
   "version": "3.6.4"
  }
 },
 "nbformat": 4,
 "nbformat_minor": 2
}
